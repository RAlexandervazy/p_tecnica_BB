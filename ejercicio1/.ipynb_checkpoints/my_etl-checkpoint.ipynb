{
 "cells": [
  {
   "cell_type": "code",
   "execution_count": 1,
   "id": "ab097236-5cec-4742-9615-ac0a0b1cc4f1",
   "metadata": {},
   "outputs": [],
   "source": [
    "from pyspark.sql import functions as F\n",
    "from pyspark.sql import SparkSession\n",
    "from helpers import reader, raw_details, data_cleaner_aggregator, writer\n",
    "spark = SparkSession.builder.appName(\"App\").getOrCreate()"
   ]
  },
  {
   "cell_type": "markdown",
   "id": "ae8b4389-aed7-4c62-9e1d-77c949e9aafc",
   "metadata": {},
   "source": [
    "# Lectura principal del insumo RAW"
   ]
  },
  {
   "cell_type": "code",
   "execution_count": 2,
   "id": "8d0059cd-139a-4c54-b42b-e7ede580d5ee",
   "metadata": {},
   "outputs": [
    {
     "name": "stderr",
     "output_type": "stream",
     "text": [
      "INFO:prueba_técnica:Lectura correcta para una ruta csv\n"
     ]
    },
    {
     "name": "stdout",
     "output_type": "stream",
     "text": [
      "+----------------------------------------+----------+----------------------------------------+------+---------------+----------+----------+\n",
      "|id                                      |name      |company_id                              |amount|status         |created_at|paid_at   |\n",
      "+----------------------------------------+----------+----------------------------------------+------+---------------+----------+----------+\n",
      "|48ba4bdbfb56ceebb32f2bd0263e759be942af3d|MiPasajefy|cbf1c8b09cd5b549416d49d220a40cbd317f952e|3.0   |voided         |2019-03-19|NULL      |\n",
      "|05fc6f5ac66b6ee7e4253aa5d0c2299eb47aaaf4|MiPasajefy|cbf1c8b09cd5b549416d49d220a40cbd317f952e|3.0   |pending_payment|2019-05-06|NULL      |\n",
      "|2cdce231c1fc6a2061bfa2f1d978351fe217245d|MiPasajefy|cbf1c8b09cd5b549416d49d220a40cbd317f952e|3.0   |voided         |2019-02-22|NULL      |\n",
      "|81633ba310a50b673efd469c37139576982901aa|MiPasajefy|cbf1c8b09cd5b549416d49d220a40cbd317f952e|102.61|paid           |2019-02-27|2019-02-27|\n",
      "|6ccfc4c24e788e4bca448df343698782db6b0c0b|MiPasajefy|cbf1c8b09cd5b549416d49d220a40cbd317f952e|184.49|paid           |2019-02-05|2019-02-05|\n",
      "+----------------------------------------+----------+----------------------------------------+------+---------------+----------+----------+\n",
      "only showing top 5 rows\n"
     ]
    }
   ],
   "source": [
    "path = \"raw/data_prueba_tecnica.csv\"  # Delimitar ruta path donde esta ubicado el archivo.\n",
    "reader_type = \"csv\" # Tipo de lectura\n",
    "rd = reader.Reader(spark, reader_type, path)\n",
    "df = rd.reader_process()\n"
   ]
  },
  {
   "cell_type": "code",
   "execution_count": 3,
   "id": "08146e48-3416-42ff-8bc5-33eac2e3c6e7",
   "metadata": {},
   "outputs": [
    {
     "name": "stdout",
     "output_type": "stream",
     "text": [
      "+-------------------+\n",
      "|         created_at|\n",
      "+-------------------+\n",
      "|2019-02-27T00:00:00|\n",
      "|           20190516|\n",
      "|           20190121|\n",
      "+-------------------+\n",
      "\n"
     ]
    }
   ],
   "source": [
    "df.select(\"created_at\").where(F.length(F.col(\"created_at\")) != 10).show()  # Visualización de casos atiícos en fecha (created_at)"
   ]
  },
  {
   "cell_type": "markdown",
   "id": "9efbb60d-6434-47bd-acaf-f9dbae0b34c5",
   "metadata": {},
   "source": [
    "# Detalles generales insumo RAW"
   ]
  },
  {
   "cell_type": "code",
   "execution_count": 4,
   "id": "7d004131-0a0b-4c22-a636-a9e2579d41cb",
   "metadata": {},
   "outputs": [
    {
     "name": "stdout",
     "output_type": "stream",
     "text": [
      " 10000 registros \n",
      " 7 columnas \n",
      "Detalles de schema raw\n",
      "root\n",
      " |-- id: string (nullable = true)\n",
      " |-- name: string (nullable = true)\n",
      " |-- company_id: string (nullable = true)\n",
      " |-- amount: string (nullable = true)\n",
      " |-- status: string (nullable = true)\n",
      " |-- created_at: string (nullable = true)\n",
      " |-- paid_at: string (nullable = true)\n",
      "\n",
      "Conteo de nulos por campo\n",
      "id: 3\n",
      "name: 3\n",
      "company_id: 4\n",
      "amount: 0\n",
      "status: 0\n",
      "created_at: 0\n",
      "paid_at: 3991\n",
      "\n",
      "        Registros unicos por campo/s llave)\n",
      "        9998\n",
      "        \n"
     ]
    }
   ],
   "source": [
    "campos_llave = [\"id\"] # Pasar uno o más columnas que conformen la llave primaria \n",
    "rwd = raw_details.RawDetails(df,campos_llave)\n",
    "rwd.crude_stage_details()"
   ]
  },
  {
   "cell_type": "markdown",
   "id": "b59f87b5-a435-42c0-bdf1-eb2872ce348e",
   "metadata": {},
   "source": [
    "# Etapa de limpieza, generación de información (ventas por día)"
   ]
  },
  {
   "cell_type": "code",
   "execution_count": 5,
   "id": "9e1ee4ad-0130-4438-b8b6-9cb1990e0efa",
   "metadata": {
    "scrolled": true
   },
   "outputs": [
    {
     "name": "stderr",
     "output_type": "stream",
     "text": [
      "INFO:prueba_técnica: Se ha generado el DF con los detalles de venta por cliente con 211 registros\n"
     ]
    }
   ],
   "source": [
    "dca = data_cleaner_aggregator.DataCleanerAggregator(df)\n",
    "final_df = dca.final_sales_details()"
   ]
  },
  {
   "cell_type": "markdown",
   "id": "f74f132d-e2d3-4c38-9014-599ebb91c64a",
   "metadata": {},
   "source": [
    "# Escritura del DF final con el detalle de ventas"
   ]
  },
  {
   "cell_type": "code",
   "execution_count": 6,
   "id": "92d1d5e9-3580-4c56-aaee-cb6d9d5c8552",
   "metadata": {},
   "outputs": [
    {
     "ename": "TypeError",
     "evalue": "Writer.__init__() takes from 1 to 2 positional arguments but 3 were given",
     "output_type": "error",
     "traceback": [
      "\u001b[31m---------------------------------------------------------------------------\u001b[39m",
      "\u001b[31mTypeError\u001b[39m                                 Traceback (most recent call last)",
      "\u001b[36mCell\u001b[39m\u001b[36m \u001b[39m\u001b[32mIn[6]\u001b[39m\u001b[32m, line 1\u001b[39m\n\u001b[32m----> \u001b[39m\u001b[32m1\u001b[39m wr = \u001b[43mwriter\u001b[49m\u001b[43m.\u001b[49m\u001b[43mWriter\u001b[49m\u001b[43m(\u001b[49m\u001b[43mdf\u001b[49m\u001b[43m,\u001b[49m\u001b[43m \u001b[49m\u001b[43mpath\u001b[49m\u001b[43m)\u001b[49m\n",
      "\u001b[31mTypeError\u001b[39m: Writer.__init__() takes from 1 to 2 positional arguments but 3 were given"
     ]
    }
   ],
   "source": [
    "wr = writer.Writer(df)"
   ]
  },
  {
   "cell_type": "code",
   "execution_count": null,
   "id": "df0db1f8-239f-4e80-be1f-9f25497d14d4",
   "metadata": {},
   "outputs": [],
   "source": [
    "path"
   ]
  },
  {
   "cell_type": "code",
   "execution_count": null,
   "id": "2888a58c-a929-426a-ac24-fd81a669f0b9",
   "metadata": {},
   "outputs": [],
   "source": [
    "path.split(\"/\")[0]"
   ]
  },
  {
   "cell_type": "code",
   "execution_count": null,
   "id": "79f766c3-e197-456e-a875-ae08a4dbc782",
   "metadata": {},
   "outputs": [],
   "source": [
    "final_df.coalesce(1).write.mode(\"overwrite\").parquet(\"/processed\")"
   ]
  }
 ],
 "metadata": {
  "kernelspec": {
   "display_name": "Python 3 (ipykernel)",
   "language": "python",
   "name": "python3"
  },
  "language_info": {
   "codemirror_mode": {
    "name": "ipython",
    "version": 3
   },
   "file_extension": ".py",
   "mimetype": "text/x-python",
   "name": "python",
   "nbconvert_exporter": "python",
   "pygments_lexer": "ipython3",
   "version": "3.13.3"
  }
 },
 "nbformat": 4,
 "nbformat_minor": 5
}
