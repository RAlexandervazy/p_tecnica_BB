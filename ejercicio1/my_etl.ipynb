{
 "cells": [
  {
   "cell_type": "code",
   "execution_count": 1,
   "id": "ab097236-5cec-4742-9615-ac0a0b1cc4f1",
   "metadata": {},
   "outputs": [],
   "source": [
    "from pyspark.sql import functions as F\n",
    "from pyspark.sql import SparkSession\n",
    "from helpers import reader\n",
    "from helpers import raw_details\n",
    "spark = SparkSession.builder.appName(\"App\").getOrCreate()"
   ]
  },
  {
   "cell_type": "markdown",
   "id": "ae8b4389-aed7-4c62-9e1d-77c949e9aafc",
   "metadata": {},
   "source": [
    "# Lectura principal del insumo RAW"
   ]
  },
  {
   "cell_type": "code",
   "execution_count": 2,
   "id": "8d0059cd-139a-4c54-b42b-e7ede580d5ee",
   "metadata": {},
   "outputs": [
    {
     "name": "stderr",
     "output_type": "stream",
     "text": [
      "INFO:prueba_técnica:Lectura correcta para una ruta csv\n"
     ]
    },
    {
     "name": "stdout",
     "output_type": "stream",
     "text": [
      "+----------------------------------------+----------+----------------------------------------+------+---------------+----------+----------+\n",
      "|id                                      |name      |company_id                              |amount|status         |created_at|paid_at   |\n",
      "+----------------------------------------+----------+----------------------------------------+------+---------------+----------+----------+\n",
      "|48ba4bdbfb56ceebb32f2bd0263e759be942af3d|MiPasajefy|cbf1c8b09cd5b549416d49d220a40cbd317f952e|3.0   |voided         |2019-03-19|NULL      |\n",
      "|05fc6f5ac66b6ee7e4253aa5d0c2299eb47aaaf4|MiPasajefy|cbf1c8b09cd5b549416d49d220a40cbd317f952e|3.0   |pending_payment|2019-05-06|NULL      |\n",
      "|2cdce231c1fc6a2061bfa2f1d978351fe217245d|MiPasajefy|cbf1c8b09cd5b549416d49d220a40cbd317f952e|3.0   |voided         |2019-02-22|NULL      |\n",
      "|81633ba310a50b673efd469c37139576982901aa|MiPasajefy|cbf1c8b09cd5b549416d49d220a40cbd317f952e|102.61|paid           |2019-02-27|2019-02-27|\n",
      "|6ccfc4c24e788e4bca448df343698782db6b0c0b|MiPasajefy|cbf1c8b09cd5b549416d49d220a40cbd317f952e|184.49|paid           |2019-02-05|2019-02-05|\n",
      "+----------------------------------------+----------+----------------------------------------+------+---------------+----------+----------+\n",
      "only showing top 5 rows\n"
     ]
    }
   ],
   "source": [
    "path = \"raw/data_prueba_tecnica.csv\"  # Delimitar ruta path donde esta ubicado el archivo.\n",
    "reader_type = \"csv\" # Tipo de lectura\n",
    "rd = reader.Reader(spark, reader_type, path)\n",
    "df = rd.reader_process()\n"
   ]
  },
  {
   "cell_type": "markdown",
   "id": "9efbb60d-6434-47bd-acaf-f9dbae0b34c5",
   "metadata": {},
   "source": [
    "# Detalles generales insumo RAW"
   ]
  },
  {
   "cell_type": "code",
   "execution_count": 4,
   "id": "7d004131-0a0b-4c22-a636-a9e2579d41cb",
   "metadata": {},
   "outputs": [
    {
     "name": "stdout",
     "output_type": "stream",
     "text": [
      " 10000 registros \n",
      " 7 columnas \n",
      "Detalles de schema raw\n",
      "root\n",
      " |-- id: string (nullable = true)\n",
      " |-- name: string (nullable = true)\n",
      " |-- company_id: string (nullable = true)\n",
      " |-- amount: string (nullable = true)\n",
      " |-- status: string (nullable = true)\n",
      " |-- created_at: string (nullable = true)\n",
      " |-- paid_at: string (nullable = true)\n",
      "\n",
      "Conteo de nulos por campo\n",
      "id: 3\n",
      "name: 3\n",
      "company_id: 4\n",
      "amount: 0\n",
      "status: 0\n",
      "created_at: 0\n",
      "paid_at: 3991\n",
      "\n",
      "        Registros unicos por campo/s llave)\n",
      "        9998\n",
      "        \n"
     ]
    }
   ],
   "source": [
    "campos_llave = [\"id\"] # Pasar uno o más columnas que conformen la llave primaria \n",
    "rwd = raw_details.RawDetails(df,campos_llave)\n",
    "rwd.crude_stage_details()"
   ]
  },
  {
   "cell_type": "code",
   "execution_count": null,
   "id": "08a6c9c9-6ca8-462d-8e1c-ea73c08f32a7",
   "metadata": {},
   "outputs": [],
   "source": []
  }
 ],
 "metadata": {
  "kernelspec": {
   "display_name": "Python 3 (ipykernel)",
   "language": "python",
   "name": "python3"
  },
  "language_info": {
   "codemirror_mode": {
    "name": "ipython",
    "version": 3
   },
   "file_extension": ".py",
   "mimetype": "text/x-python",
   "name": "python",
   "nbconvert_exporter": "python",
   "pygments_lexer": "ipython3",
   "version": "3.13.3"
  }
 },
 "nbformat": 4,
 "nbformat_minor": 5
}
