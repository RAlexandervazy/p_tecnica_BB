{
 "cells": [
  {
   "cell_type": "markdown",
   "id": "9b724ae9-25fe-4a73-9bb6-82994360202d",
   "metadata": {},
   "source": [
    "## Usar ▶▶ (Restart the kernel and run all celdas) para ejecución completa."
   ]
  },
  {
   "cell_type": "code",
   "execution_count": null,
   "id": "ab097236-5cec-4742-9615-ac0a0b1cc4f1",
   "metadata": {},
   "outputs": [],
   "source": [
    "from pyspark.sql import functions as F\n",
    "from pyspark.sql import SparkSession\n",
    "from helpers import reader, raw_details, data_cleaner_aggregator, writer\n",
    "spark = SparkSession.builder.appName(\"App\").getOrCreate()"
   ]
  },
  {
   "cell_type": "code",
   "execution_count": null,
   "id": "509578b6-c31d-45e6-8184-6650782271c7",
   "metadata": {
    "jupyter": {
     "source_hidden": true
    }
   },
   "outputs": [],
   "source": [
    "# Usar unicamente para declarar las variables de entorno  -  sustituyendo las rutas correspondientes para JAVA y HADOOP\n",
    "# import os\n",
    "# os.environ[\"PATH\"] += r\";C:\\hadoop-3.3.6\\bin\"\n",
    "# os.environ[\"JAVA_HOME\"] = \"C:\\\\Program Files\\\\Eclipse Adoptium\\\\jdk-21.0.7.6-hotspot\""
   ]
  },
  {
   "cell_type": "markdown",
   "id": "ae8b4389-aed7-4c62-9e1d-77c949e9aafc",
   "metadata": {},
   "source": [
    "# Lectura principal del insumo RAW"
   ]
  },
  {
   "cell_type": "code",
   "execution_count": null,
   "id": "8d0059cd-139a-4c54-b42b-e7ede580d5ee",
   "metadata": {},
   "outputs": [],
   "source": [
    "path = \"raw/data_prueba_tecnica.csv\"  # Delimitar ruta path donde esta ubicado el archivo raw.\n",
    "reader_type = \"csv\" # Tipo de lectura\n",
    "rd = reader.Reader(spark, reader_type, path)\n",
    "df = rd.reader_process()\n"
   ]
  },
  {
   "cell_type": "markdown",
   "id": "9efbb60d-6434-47bd-acaf-f9dbae0b34c5",
   "metadata": {},
   "source": [
    "# Detalles generales insumo RAW"
   ]
  },
  {
   "cell_type": "code",
   "execution_count": null,
   "id": "7d004131-0a0b-4c22-a636-a9e2579d41cb",
   "metadata": {},
   "outputs": [],
   "source": [
    "campos_llave = [\"id\"] # Pasar uno o más columnas que conformen la llave primaria \n",
    "rwd = raw_details.RawDetails(df,campos_llave)\n",
    "rwd.crude_stage_details()"
   ]
  },
  {
   "cell_type": "markdown",
   "id": "b59f87b5-a435-42c0-bdf1-eb2872ce348e",
   "metadata": {},
   "source": [
    "# Etapa de limpieza, generación de información (ventas por día)"
   ]
  },
  {
   "cell_type": "code",
   "execution_count": null,
   "id": "9e1ee4ad-0130-4438-b8b6-9cb1990e0efa",
   "metadata": {
    "scrolled": true
   },
   "outputs": [],
   "source": [
    "dca = data_cleaner_aggregator.DataCleanerAggregator(df) # Recibe el dataframe raw\n",
    "df_detalle_ventas = dca.final_sales_details()"
   ]
  },
  {
   "cell_type": "markdown",
   "id": "f74f132d-e2d3-4c38-9014-599ebb91c64a",
   "metadata": {},
   "source": [
    "# Escritura del DF final con el detalle de ventas"
   ]
  },
  {
   "cell_type": "code",
   "execution_count": null,
   "id": "92d1d5e9-3580-4c56-aaee-cb6d9d5c8552",
   "metadata": {},
   "outputs": [],
   "source": [
    "wr = writer.Writer()\n",
    "wr.processed_df(df_detalle_ventas,\"processed/detalle_de_Ventas\")"
   ]
  },
  {
   "cell_type": "code",
   "execution_count": null,
   "id": "484fbfb4-b1c1-46a9-8c29-d429ebd7a391",
   "metadata": {},
   "outputs": [],
   "source": [
    "df_final = spark.read.parquet(\"processed/detalle_de_Ventas\")"
   ]
  },
  {
   "cell_type": "code",
   "execution_count": null,
   "id": "2abab87b-7089-4d65-98c4-ec12be0024a9",
   "metadata": {},
   "outputs": [],
   "source": [
    "df_final.count()"
   ]
  },
  {
   "cell_type": "code",
   "execution_count": null,
   "id": "f19dde09-d1d0-4777-a954-a6da6e9608a6",
   "metadata": {},
   "outputs": [],
   "source": [
    "df_final.show(5, truncate = False)"
   ]
  },
  {
   "cell_type": "markdown",
   "id": "3fa874c1-e5b1-40fc-be6a-e35396130660",
   "metadata": {},
   "source": [
    "# Clasificación de empresar de acuerdo a su desviación estandar"
   ]
  },
  {
   "cell_type": "code",
   "execution_count": null,
   "id": "90135ad9-d471-4177-aebc-65d9e1e12430",
   "metadata": {},
   "outputs": [],
   "source": [
    "df_performance = dca.company_clasification_by_stddev()"
   ]
  },
  {
   "cell_type": "markdown",
   "id": "f4afc74e-c3fa-48ab-84c0-8e14473401d7",
   "metadata": {},
   "source": [
    "### Escritura"
   ]
  },
  {
   "cell_type": "code",
   "execution_count": null,
   "id": "a3f34d71-bf55-41ce-acc8-5b6e64b6ae1b",
   "metadata": {},
   "outputs": [],
   "source": [
    "wr.processed_df(df_performance, \"processed/performance_por_compañia\")"
   ]
  },
  {
   "cell_type": "code",
   "execution_count": null,
   "id": "9e58a2ad-2d3e-4ae6-82aa-36f325b5db4e",
   "metadata": {},
   "outputs": [],
   "source": [
    "df_performance.show(20,truncate=False)"
   ]
  }
 ],
 "metadata": {
  "kernelspec": {
   "display_name": "Python 3 (ipykernel)",
   "language": "python",
   "name": "python3"
  },
  "language_info": {
   "codemirror_mode": {
    "name": "ipython",
    "version": 3
   },
   "file_extension": ".py",
   "mimetype": "text/x-python",
   "name": "python",
   "nbconvert_exporter": "python",
   "pygments_lexer": "ipython3",
   "version": "3.13.3"
  }
 },
 "nbformat": 4,
 "nbformat_minor": 5
}
